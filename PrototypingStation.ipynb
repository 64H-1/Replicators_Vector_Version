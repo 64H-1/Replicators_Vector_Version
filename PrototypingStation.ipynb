{
 "cells": [
  {
   "cell_type": "markdown",
   "metadata": {},
   "source": [
    "Ok, let's get this starty parted.\n",
    "The general design is As follows:\n",
    "The model class will consist of:\n",
    "    - a graph (networkx)\n",
    "    - a state, that is a list/array, that maps integers(i.e. nodes) to species\n",
    "    - a step function\n",
    "        - interaction step\n",
    "        - mutation step\n",
    "    - a display function.\n",
    "    \n",
    "We will start with the graph and the display function, which will grant us eyes to aid in designing and testing the rest."
   ]
  },
  {
   "cell_type": "markdown",
   "metadata": {},
   "source": [
    "Ideas:\n",
    "- Measure relaxation time.\n",
    "- Measure acceptance probability.\n",
    "- Observe speciation?\n",
    "    -Find measure for diversity?\n",
    "\n",
    "Just realised why it's not behaving as expected:\n",
    "Diversity is not an asset. To find a beneficial mutation is only related how closely the species is already optimised.\n",
    "-> hyperconnectivity (maybe also centralisation) is good.\n",
    "    \n",
    "    - Implement fitness function that's reasonable and rewards diversity?\n",
    "    - Why is diversity good?\n",
    "    - Derive from first principles?\n",
    "\n",
    "Still surprising that the difference between \"fight-mode\" and \"selfish-gene-parliament-mode\" is so small. Maybe the relaxation time and acceptance probability are improved slightly, but in the simulations its not super obvious."
   ]
  },
  {
   "cell_type": "markdown",
   "metadata": {},
   "source": [
    "Experimented with a different fitness function, a hash.\n",
    "This results in pseudo random values for any mutation.\n",
    "\n",
    "Result: Fitness over time looks like abstract art, completely random, as far as i can tell. Not even an upwards trend.\n",
    "\n",
    "Thus we learn that fitness functions are absolutely vital to the simulation and not an afterthought at all.\n",
    "\n",
    "Talked about it with dad: back to the idea where genomes are binary finite vectors and not sets. True and False represent wether a gene is present or not. Basically the same as a replicant set, except the possible genes/replicants are predetermined and finite.\n",
    "\n",
    "These finite vectors can be mapped onto the integers/reals with a tensor of second, third etc. order that represents the coupling/interaction of a pair of genes.\n",
    "-> sum over i j ( a_i * a_j * A_ij)\n",
    "\n",
    "This will require a complete reworking of the Species architecture. The replicant class will become obsolete.\n",
    "The rest (model and ipynb) will hopefully remain largely unaffected.\n",
    "\n",
    "Probably a good idea to save a copy of the working project as is, might come in useful."
   ]
  },
  {
   "cell_type": "markdown",
   "metadata": {},
   "source": [
    "And also lets use numpy from now on. Seems to be more performative, and since we are dealing with vectors and tensors now it's probably a good idea.\n"
   ]
  },
  {
   "cell_type": "markdown",
   "metadata": {},
   "source": [
    "10.1.2021\n",
    "All right, made the switch to vectors.\n",
    "Results look different, but there is still no clear distinction between, turning \"surrender\"-option on and off.\n",
    "\n",
    "Hyptothesis:\n",
    "This is because most mutations cause huge differences in fitness. Therefor the chance of winning is almost 1, and therefore a beneficial mutation spreads almost as fast in \"on\" as in \"off\"-case.\n",
    "So the problem still lies with the fitness function. Well actually it doesn't since in very early times (ursuppe) there would have been krass differences in fitness between replicators/vehicles, but now almost everything is close to equilibrium, so only minor gains/innovations can be made.\n",
    "And my hyptothesis is that these spread much better in networks with surrender-on than surrender-off.\n",
    "\n",
    "So, now lets mess with the fitness function, so that fitness differences are \"small\" and see what happens."
   ]
  },
  {
   "cell_type": "markdown",
   "metadata": {},
   "source": []
  },
  {
   "cell_type": "markdown",
   "metadata": {},
   "source": [
    "TODO:\n",
    "   - Find a nicer solution for the data collectors.\n",
    "   - Find a better way for separating control-group and non-control-group \n",
    "   - Find better name than \"surrender\"\n",
    "   - Consider implementing a version where surrender is replaced by a 50/50 micing of the genes. (sexual reproduction). Drawback: Tenuous connection to memes."
   ]
  },
  {
   "cell_type": "code",
   "execution_count": 1,
   "metadata": {},
   "outputs": [],
   "source": [
    "import networkx as nx\n",
    "import random\n",
    "from species import Species\n",
    "from model import Model\n",
    "import numpy as np\n",
    "\n",
    "import matplotlib.pyplot as plt\n",
    "%matplotlib inline"
   ]
  },
  {
   "cell_type": "code",
   "execution_count": 2,
   "metadata": {},
   "outputs": [],
   "source": [
    "models = []\n",
    "control_models = []\n",
    "rep_len = 10\n",
    "coupling_tensor = np.random.default_rng().uniform(-1, 1, (rep_len,rep_len))\n",
    "\n",
    "for i in range(0,5):\n",
    "    models.extend([Model(nx.cycle_graph(50), coupling_tensor, 0.01, 0, True)])\n",
    "for i in range(0,5):\n",
    "    control_models.extend([Model(nx.complete_graph(50), coupling_tensor, 0.01, 0, False)])"
   ]
  },
  {
   "cell_type": "code",
   "execution_count": null,
   "metadata": {},
   "outputs": [],
   "source": [
    "class Experiment:\n",
    "    \n",
    "    def __init__(self, control_group, experimental_group):\n",
    "        self.control_group = control_group \n",
    "        self.experimental_group = experimental_group\n",
    "        self.data_collectors "
   ]
  },
  {
   "cell_type": "code",
   "execution_count": 3,
   "metadata": {},
   "outputs": [
    {
     "data": {
      "text/plain": [
       "array([[-0.05524647, -0.80583301,  0.55647262, -0.06647159, -0.08897302,\n",
       "         0.81988748,  0.53381627,  0.06458409,  0.4162997 , -0.30339813],\n",
       "       [-0.42861966,  0.90121617, -0.10957063, -0.23401675,  0.77055803,\n",
       "         0.96029683, -0.25657759, -0.16202888,  0.19839753,  0.95468839],\n",
       "       [ 0.27091748, -0.91862793,  0.19863312, -0.53558464,  0.21509725,\n",
       "         0.01408165,  0.04109214, -0.93372709, -0.90967764, -0.27412684],\n",
       "       [-0.11139653, -0.29913261,  0.6669597 , -0.96090511, -0.8137659 ,\n",
       "         0.91345605,  0.87671117,  0.79324458, -0.73637752,  0.84697295],\n",
       "       [-0.35936881, -0.82472358,  0.59121676,  0.66833793, -0.23003371,\n",
       "        -0.78181013, -0.15104882,  0.43624712, -0.15993788, -0.40183276],\n",
       "       [ 0.19207718, -0.85186703, -0.65390138,  0.91642545, -0.47504396,\n",
       "         0.86663696,  0.85117619,  0.40842742,  0.36432817, -0.15680238],\n",
       "       [-0.62176715,  0.00697079,  0.38072373,  0.34433219, -0.76685516,\n",
       "        -0.30078076,  0.08700386, -0.17375689, -0.87268126, -0.88398701],\n",
       "       [ 0.98422275, -0.09472101, -0.39135314,  0.52427412,  0.83125475,\n",
       "         0.2235146 , -0.03959051,  0.33737891, -0.33974626, -0.4233964 ],\n",
       "       [-0.51932456, -0.05420352,  0.94352301,  0.71123733, -0.67306172,\n",
       "        -0.6168153 ,  0.90486886, -0.35036752, -0.52171427, -0.03781558],\n",
       "       [ 0.63654765, -0.34878508, -0.64970188, -0.53800773,  0.30773792,\n",
       "         0.3848638 ,  0.43165193,  0.09506172, -0.19894674, -0.25064345]])"
      ]
     },
     "execution_count": 3,
     "metadata": {},
     "output_type": "execute_result"
    }
   ],
   "source": [
    "coupling_tensor"
   ]
  },
  {
   "cell_type": "code",
   "execution_count": 4,
   "metadata": {},
   "outputs": [],
   "source": [
    "max_fitness_collectors = []\n",
    "max_replicants_lens=[]\n",
    "average_fitness_collectors=[]\n",
    "population=[]"
   ]
  },
  {
   "cell_type": "code",
   "execution_count": 5,
   "metadata": {},
   "outputs": [
    {
     "name": "stdout",
     "output_type": "stream",
     "text": [
      "Running model Nr. 0\n",
      "Running model Nr. 1\n",
      "Running model Nr. 2\n",
      "Running model Nr. 3\n",
      "Running model Nr. 4\n",
      "Running model Nr. 5\n",
      "Running model Nr. 6\n",
      "Running model Nr. 7\n",
      "Running model Nr. 8\n",
      "Running model Nr. 9\n",
      "Time elapsed = 46.63683733600192 . Steps per second = 0.00046636837336001916\n"
     ]
    }
   ],
   "source": [
    "import time\n",
    "\n",
    "start_time = time.perf_counter()\n",
    "steps_per_model = 10000\n",
    "\n",
    "for j in range(0,len(myModels)):\n",
    "    print(\"Running model Nr.\", j)\n",
    "    jth_max_fitness_collector = []\n",
    "    jth_max_replicants_len=[]\n",
    "    jth_average_fitness_collector=[]\n",
    "    jth_population=[]\n",
    "    \n",
    "    for i in range(0,steps_per_model):\n",
    "        myModels[j].step()\n",
    "        jth_max_fitness_collector.append(max([node.fitness for node in myModels[j].State]))\n",
    "        jth_average_fitness_collector.append(sum([node.fitness for node in myModels[j].State])/myModels[j].N)\n",
    "        jth_max_replicants_len.append(max([np.sum(node.genome) for node in myModels[j].State]))\n",
    "        jth_population.append(myModels[j].N - myModels[j].State.count(myModels[j].empty_species))\n",
    "        \n",
    "    max_fitness_collectors.append(jth_max_fitness_collector)\n",
    "    max_replicants_lens.append(jth_average_fitness_collector)\n",
    "    average_fitness_collectors.append(jth_average_fitness_collector)\n",
    "    population.append(jth_population)\n",
    "    \n",
    "total_time = time.perf_counter()-start_time\n",
    "print(\"Time elapsed =\", total_time ,\". Steps per second =\", total_time/(len(myModels)*steps_per_model))"
   ]
  },
  {
   "cell_type": "code",
   "execution_count": 6,
   "metadata": {},
   "outputs": [
    {
     "data": {
      "text/plain": [
       "Timer unit: 1e-06 s\n",
       "\n",
       "Total time: 0.000166 s\n",
       "File: /home/wzrd/PycharmProjects/Replicators_Vector_Version/model.py\n",
       "Function: interaction_step at line 97\n",
       "\n",
       "Line #      Hits         Time  Per Hit   % Time  Line Contents\n",
       "==============================================================\n",
       "    97                                               def interaction_step(self):\n",
       "    98                                                   \"\"\"Chooses a random node and has it interact with one of its neighbors.\n",
       "    99                                                   We chose to uniformly sample nodes instead of edges, since we think,\n",
       "   100                                                   that it makes sense that nodes with few neighbors interact more with each of them.\n",
       "   101                                                   \"\"\"\n",
       "   102                                                   # pick a random node\n",
       "   103         1         47.0     47.0     28.3          a = random.randint(0, self.N - 1)\n",
       "   104                                                   # get neighbors\n",
       "   105         1         27.0     27.0     16.3          neighbors = [i for i in self.Graph[a]]\n",
       "   106                                                   # randomly select on neighbor\n",
       "   107         1         11.0     11.0      6.6          b = random.choice(neighbors)\n",
       "   108                                           \n",
       "   109                                                   # if the same species lives on both nodes, nothing happens, if not they interact\n",
       "   110                                                   # interact: one replaces the other, either violently or consensually\n",
       "   111         1         81.0     81.0     48.8          if not self.State[a] == self.State[b]:\n",
       "   112                                                       # print(self.State[a], \"is unequal\", self.State[b])\n",
       "   113                                           \n",
       "   114                                                       if self.State[a].fitness > self.State[b].fitness:\n",
       "   115                                                           underdog_node = b\n",
       "   116                                                           favorite_node = a\n",
       "   117                                                           underdog = self.State[b]\n",
       "   118                                                           favorite = self.State[a]\n",
       "   119                                                       else:\n",
       "   120                                                           underdog_node = a\n",
       "   121                                                           favorite_node = b\n",
       "   122                                                           underdog = self.State[a]\n",
       "   123                                                           favorite = self.State[b]\n",
       "   124                                           \n",
       "   125                                                       # now the genes in the underdog vote on wether to surrender or not.\n",
       "   126                                           \n",
       "   127                                                       # first: determine the number of genes in the underdog genome\n",
       "   128                                                       num_genes = np.sum(underdog.genome)\n",
       "   129                                           \n",
       "   130                                                       if num_genes == 0: # if the underdog is an empty node, simply replace him.\n",
       "   131                                                           self.State[underdog_node] = favorite\n",
       "   132                                                           self.State[favorite_node] = favorite\n",
       "   133                                           \n",
       "   134                                                       else:\n",
       "   135                                           \n",
       "   136                                                           # determine the number of genes contained in both the underdog and the favorite genome\n",
       "   137                                                           num_common_genes = np.sum(underdog.genome * favorite.genome)\n",
       "   138                                           \n",
       "   139                                                           # Probability that a randomly chosen underdog gene is contained in the favorites genome\n",
       "   140                                                           p_gene_cont = num_common_genes/num_genes\n",
       "   141                                           \n",
       "   142                                                           # Adding CONFUSION: uncertainty\n",
       "   143                                                           # Probability that a randomly chosen underdog gene THINKS (!!) it is contained in the favorites genome\n",
       "   144                                                           p_gene_thinks_cont = p_gene_cont * (1 - self.uncertainty) + (1- p_gene_cont) * self.uncertainty\n",
       "   145                                           \n",
       "   146                                           \n",
       "   147                                                           # the other very important information for risking surrender, is the surrounding species.\n",
       "   148                                                           neighbor_species = [self.State[i] for i in self.Graph[underdog_node]]  # list of neighbors\n",
       "   149                                                           # possibly remove the two combatants from the list? TODO ToDo\n",
       "   150                                           \n",
       "   151                                                           # probability that the underdog wins against a random neighbor\n",
       "   152                                                           # sum over all neighbors, with exception of the favorite.\n",
       "   153                                                           # also sum over other underdog and favorite nodes.\n",
       "   154                                           \n",
       "   155                                                           p_u_beats_n = sum([p_win(underdog, n) for n in neighbor_species]) / len(neighbor_species)\n",
       "   156                                           \n",
       "   157                                                           # probability that the favorite wins against a neighbor\n",
       "   158                                                           p_f_beats_n = sum([p_win(underdog, n) for n in neighbor_species]) / len(neighbor_species)\n",
       "   159                                           \n",
       "   160                                                           # probability that the underdog wins against the favorite\n",
       "   161                                                           p_u_beats_f = p_win(underdog, favorite)\n",
       "   162                                           \n",
       "   163                                                           # if we now randomly pick an underdog gene that gets to choose whether to surrender or not, what does that gene know?\n",
       "   164                                                           # it knows with uncertainty whether it is contained in the opponent or not.\n",
       "   165                                                           # it knows that uncertainty.\n",
       "   166                                                           # it knows its present genomes chance to survive the next interaction with a neighbor.\n",
       "   167                                                           # it knows the favorites chance to survive the next interaction with a neighbor.\n",
       "   168                                                           # So, in order to surrender, the gene must think it's survival chances are better upon surrender.\n",
       "   169                                           \n",
       "   170                                           \n",
       "   171                                           \n",
       "   172                                                           #Firste let's determine if the gene thinks its contained or not.\n",
       "   173                                           \n",
       "   174                                                           if p_gene_thinks_cont > random.random():\n",
       "   175                                                               #Gene thinks it's contained, now let's see how it estimates, its survival chances given that information.\n",
       "   176                                           \n",
       "   177                                                               gene_decision = gene_decide((1-self.uncertainty), p_u_beats_n, p_f_beats_n, p_u_beats_f)\n",
       "   178                                                           else:\n",
       "   179                                                               # Gene thinks it isn't contained, but knows it migh still be, with prob = uncertainty.\n",
       "   180                                                               gene_decision = gene_decide((self.uncertainty), p_u_beats_n, p_f_beats_n, p_u_beats_f)\n",
       "   181                                           \n",
       "   182                                                           # gene has decided, to surrender or not, apply the consequences to the model state\n",
       "   183                                                           if gene_decision and self.surrender_option_on:\n",
       "   184                                                               # voted for surrender!\n",
       "   185                                                               # print(underdog._name, \" surrendered to \", favorite._name,\" Fitness:\", underdog.fitness, \" -> \", favorite.fitness)\n",
       "   186                                                               self.State[underdog_node] = favorite\n",
       "   187                                                               self.State[favorite_node] = favorite\n",
       "   188                                           \n",
       "   189                                                           else:\n",
       "   190                                                               winner = self.fight(underdog, favorite)\n",
       "   191                                                               # print(underdog._name, \" fought \", favorite._name, \". Winner = \", winner._name)\n",
       "   192                                           \n",
       "   193                                                               # winner takes all: winner now replaces the loser on his node.\n",
       "   194                                                               self.State[underdog_node] = winner\n",
       "   195                                                               self.State[favorite_node] = winner"
      ]
     },
     "metadata": {},
     "output_type": "display_data"
    }
   ],
   "source": [
    "import line_profiler\n",
    "%load_ext line_profiler\n",
    "\n",
    "# To actually profile a function:\n",
    "\n",
    "%lprun -f Model.interaction_step myModels[0].step()\n",
    "#             ^^^^^---- this call will be profiled\n",
    "#         ^^^-----------function to profile\n"
   ]
  },
  {
   "cell_type": "code",
   "execution_count": 25,
   "metadata": {},
   "outputs": [
    {
     "data": {
      "image/png": "[encoded data removed]",
      "text/plain": [
       "<Figure size 432x288 with 1 Axes>"
      ]
     },
     "metadata": {
      "needs_background": "light"
     },
     "output_type": "display_data"
    }
   ],
   "source": [
    "# plt.yscale('log')\n",
    "start = 0\n",
    "end = steps_per_model\n",
    "for a in range(0, len(myModels)):\n",
    "    if a < 5:\n",
    "        plt.plot(average_fitness_collectors[a][start:end], color = 'lime')\n",
    "        # plt.plot(max_fitness_collectors[a][start:end], color = 'darkgreen')\n",
    "    else:\n",
    "        plt.plot(average_fitness_collectors[a][start:end], color = 'orange')\n",
    "        # plt.plot(max_fitness_collectors[a][start:end], color = 'red')\n"
   ]
  },
  {
   "cell_type": "code",
   "execution_count": 8,
   "metadata": {},
   "outputs": [
    {
     "data": {
      "image/png": "[encoded data removed]",
      "text/plain": [
       "<Figure size 432x288 with 1 Axes>"
      ]
     },
     "metadata": {
      "needs_background": "light"
     },
     "output_type": "display_data"
    }
   ],
   "source": [
    "plt.yscale('log')\n",
    "for a in range(0, len(myModels)):\n",
    "    if a < 5:\n",
    "        plt.plot(population[a], color = 'blue')\n",
    "    else:\n",
    "        plt.plot(population[a], color = 'orange')\n",
    "\n"
   ]
  },
  {
   "cell_type": "code",
   "execution_count": 9,
   "metadata": {},
   "outputs": [],
   "source": [
    "# calculate probability of acceptance for a benefitial mutation.\n",
    "\n",
    "def acceptance(max_fitness: [float]) -> float:\n",
    "    # consider how often the max fitness increases, vs how often it decreases.\n",
    "    # the ratio is the probability of a benefitial mutation being accepted.\n",
    "    increases = 0\n",
    "    decreases = 0\n",
    "    for i in range(1, len(max_fitness)):\n",
    "        if max_fitness[i-1] < max_fitness[i]:\n",
    "            increases += 1\n",
    "            # print(\"increase at \", i, max_fitness[i-1], \"to\", max_fitness[i] )\n",
    "        elif max_fitness[i-1] > max_fitness[i]:\n",
    "            decreases += 1\n",
    "            # print(\"decrease at \",i, max_fitness[i-1], \"to\", max_fitness[i] )\n",
    "    # print(decreases, increases)\n",
    "    return 1 - (decreases/increases)"
   ]
  },
  {
   "cell_type": "code",
   "execution_count": 10,
   "metadata": {},
   "outputs": [
    {
     "name": "stdout",
     "output_type": "stream",
     "text": [
      "0.21215686274509804 0.0812781954887218\n"
     ]
    },
    {
     "data": {
      "image/png": "[encoded data removed]",
      "text/plain": [
       "<Figure size 432x288 with 1 Axes>"
      ]
     },
     "metadata": {
      "needs_background": "light"
     },
     "output_type": "display_data"
    }
   ],
   "source": [
    "acceptances = [acceptance(mfc) for mfc in max_fitness_collectors]\n",
    "\n",
    "plt.hist(acceptances[0:4], color = 'blue')\n",
    "\n",
    "plt.hist(acceptances[5:9], color = 'orange')\n",
    "acceptances\n",
    "print(sum(acceptances[0:4])/5, sum (acceptances[5:9])/5)"
   ]
  },
  {
   "cell_type": "code",
   "execution_count": 15,
   "metadata": {},
   "outputs": [
    {
     "data": {
      "text/plain": [
       "[1000000001.0288169,\n",
       " 1000000001.0288169,\n",
       " 1000000001.0288169,\n",
       " 1000000001.0288169,\n",
       " 1000000001.0288169,\n",
       " 1000000001.0288169,\n",
       " 1000000001.0288169,\n",
       " 1000000001.0288169,\n",
       " 1000000001.0288169,\n",
       " 1000000001.0288169,\n",
       " 1000000001.0288169,\n",
       " 1000000003.4134889,\n",
       " 1000000003.4134889,\n",
       " 1000000006.1359674,\n",
       " 1000000006.1359674,\n",
       " 1000000006.1359674,\n",
       " 1000000006.1359674,\n",
       " 1000000006.1359674,\n",
       " 1000000006.1359674,\n",
       " 1000000006.1359674,\n",
       " 1000000006.1359674,\n",
       " 1000000006.1359674,\n",
       " 1000000006.1359674,\n",
       " 1000000006.1359674,\n",
       " 1000000006.1359674,\n",
       " 1000000006.1359674,\n",
       " 1000000000.4417089,\n",
       " 1000000000.4417089,\n",
       " 1000000001.0288169,\n",
       " 1000000001.0288169,\n",
       " 1000000000.4417089,\n",
       " 1000000000.4417089,\n",
       " 1000000000.4417089,\n",
       " 1000000000.4417089,\n",
       " 1000000001.0288169,\n",
       " 1000000001.0288169,\n",
       " 1000000001.0288169,\n",
       " 1000000001.0288169,\n",
       " 1000000001.0288169,\n",
       " 1000000001.0288169,\n",
       " 1000000001.0288169,\n",
       " 1000000001.0288169,\n",
       " 1000000001.0288169,\n",
       " 1000000001.0288169,\n",
       " 1000000001.0288169,\n",
       " 1000000001.0288169,\n",
       " 1000000003.0214623,\n",
       " 1000000003.0214623,\n",
       " 1000000003.0214623,\n",
       " 1000000001.0288169]"
      ]
     },
     "execution_count": 15,
     "metadata": {},
     "output_type": "execute_result"
    }
   ],
   "source": [
    "[ r.fitness for r in myModels[0].State]"
   ]
  },
  {
   "cell_type": "code",
   "execution_count": 12,
   "metadata": {},
   "outputs": [
    {
     "data": {
      "text/plain": [
       "(array([ 6., 26.,  0.,  0.,  3.,  2.,  0.,  0.,  0., 13.]),\n",
       " array([1.00000000e+09, 1.00000000e+09, 1.00000000e+09, 1.00000000e+09,\n",
       "        1.00000000e+09, 1.00000000e+09, 1.00000000e+09, 1.00000000e+09,\n",
       "        1.00000000e+09, 1.00000001e+09, 1.00000001e+09]),\n",
       " <BarContainer object of 10 artists>)"
      ]
     },
     "execution_count": 12,
     "metadata": {},
     "output_type": "execute_result"
    },
    {
     "data": {
      "image/png": "[encoded data removed]",
      "text/plain": [
       "<Figure size 432x288 with 1 Axes>"
      ]
     },
     "metadata": {
      "needs_background": "light"
     },
     "output_type": "display_data"
    }
   ],
   "source": [
    "plt.hist([i.fitness for i in myModels[0].State])"
   ]
  },
  {
   "cell_type": "code",
   "execution_count": 13,
   "metadata": {},
   "outputs": [
    {
     "ename": "NameError",
     "evalue": "name 'State' is not defined",
     "output_type": "error",
     "traceback": [
      "\u001b[0;31m---------------------------------------------------------------------------\u001b[0m",
      "\u001b[0;31mNameError\u001b[0m                                 Traceback (most recent call last)",
      "\u001b[0;32m<ipython-input-13-54da462831c7>\u001b[0m in \u001b[0;36m<module>\u001b[0;34m\u001b[0m\n\u001b[0;32m----> 1\u001b[0;31m \u001b[0mzoo\u001b[0m \u001b[0;34m=\u001b[0m \u001b[0msorted\u001b[0m\u001b[0;34m(\u001b[0m\u001b[0mset\u001b[0m\u001b[0;34m(\u001b[0m\u001b[0mState\u001b[0m\u001b[0;34m)\u001b[0m\u001b[0;34m,\u001b[0m \u001b[0mkey\u001b[0m\u001b[0;34m=\u001b[0m\u001b[0;32mlambda\u001b[0m \u001b[0mx\u001b[0m\u001b[0;34m:\u001b[0m \u001b[0mx\u001b[0m\u001b[0;34m.\u001b[0m\u001b[0mfitness\u001b[0m\u001b[0;34m,\u001b[0m\u001b[0mreverse\u001b[0m\u001b[0;34m=\u001b[0m\u001b[0;32mTrue\u001b[0m\u001b[0;34m)\u001b[0m\u001b[0;34m\u001b[0m\u001b[0;34m\u001b[0m\u001b[0m\n\u001b[0m\u001b[1;32m      2\u001b[0m \u001b[0mprint\u001b[0m\u001b[0;34m(\u001b[0m\u001b[0mlen\u001b[0m\u001b[0;34m(\u001b[0m\u001b[0mState\u001b[0m\u001b[0;34m)\u001b[0m\u001b[0;34m)\u001b[0m\u001b[0;34m\u001b[0m\u001b[0;34m\u001b[0m\u001b[0m\n\u001b[1;32m      3\u001b[0m \u001b[0mlen\u001b[0m\u001b[0;34m(\u001b[0m\u001b[0mzoo\u001b[0m\u001b[0;34m)\u001b[0m\u001b[0;34m\u001b[0m\u001b[0;34m\u001b[0m\u001b[0m\n",
      "\u001b[0;31mNameError\u001b[0m: name 'State' is not defined"
     ]
    }
   ],
   "source": [
    "zoo = sorted(set(State), key=lambda x: x.fitness,reverse=True)\n",
    "print(len(State))\n",
    "len(zoo)"
   ]
  },
  {
   "cell_type": "code",
   "execution_count": null,
   "metadata": {},
   "outputs": [],
   "source": [
    "[(reps_in_common(i,zoo[0]), len(i.replicants)) for i in zoo[:20]]"
   ]
  },
  {
   "cell_type": "code",
   "execution_count": null,
   "metadata": {},
   "outputs": [],
   "source": [
    "plt.plot(max_replicants_len)"
   ]
  },
  {
   "cell_type": "code",
   "execution_count": null,
   "metadata": {},
   "outputs": [],
   "source": [
    "display()"
   ]
  },
  {
   "cell_type": "code",
   "execution_count": null,
   "metadata": {},
   "outputs": [],
   "source": [
    "import numpy as np\n",
    "cumulative_sum = np.cumsum([i.attribute for i in State[0].replicants[:]]) -1\n",
    "#plt.yscale('symlog')\n",
    "plt.plot(cumulative_sum)\n",
    "cumulative_sum"
   ]
  },
  {
   "cell_type": "code",
   "execution_count": null,
   "metadata": {},
   "outputs": [],
   "source": [
    "plt.hist([v for k,v in nx.degree(Graph)])"
   ]
  },
  {
   "cell_type": "code",
   "execution_count": null,
   "metadata": {},
   "outputs": [],
   "source": [
    "def display():\n",
    "    \n",
    "    color_map = [i.color for i in State]\n",
    "    # nx.draw_circular(Graph, node_color=color_map)\n",
    "    nx.draw_spring(Graph, node_color=color_map)"
   ]
  },
  {
   "cell_type": "code",
   "execution_count": null,
   "metadata": {},
   "outputs": [],
   "source": [
    "def reps_in_common(a,b):\n",
    "    \"Return the number of Replicants Species a and Species b have in common.\"\n",
    "    return len(set(a.replicants) & set(b.replicants)) # size of the intersection set."
   ]
  },
  {
   "cell_type": "code",
   "execution_count": null,
   "metadata": {},
   "outputs": [],
   "source": [
    "import random\n",
    "import numpy as np\n",
    "v = np.ones(2, dtype = bool)\n",
    "print(v)\n",
    "u = v.copy()\n",
    "v[0] = not v[0]\n",
    "print(v, u)\n",
    "random.randrange(0,len(v))\n",
    "str(v)\n",
    "\n",
    "v0 = v[0]\n",
    "v0 = True\n",
    "v"
   ]
  },
  {
   "cell_type": "code",
   "execution_count": null,
   "metadata": {},
   "outputs": [],
   "source": [
    "ar =np.array([True, True, False, False, True])\n",
    "ar2 =np.array([False, False, False, False, True])\n",
    "\n",
    "(ar*ar2)"
   ]
  },
  {
   "cell_type": "code",
   "execution_count": null,
   "metadata": {},
   "outputs": [],
   "source": [
    "r = np.zeros((2,2))\n",
    "if not all([r.shape[0] == i for i in r.shape]):\n",
    "    raise Exception(\"Coupling tensor is not square.\")\n",
    "leng = r.shape[0]\n",
    "str(r)"
   ]
  }
 ],
 "metadata": {
  "kernelspec": {
   "display_name": "Python 3",
   "language": "python",
   "name": "python3"
  },
  "language_info": {
   "codemirror_mode": {
    "name": "ipython",
    "version": 3
   },
   "file_extension": ".py",
   "mimetype": "text/x-python",
   "name": "python",
   "nbconvert_exporter": "python",
   "pygments_lexer": "ipython3",
   "version": "3.9.1"
  }
 },
 "nbformat": 4,
 "nbformat_minor": 4
}
