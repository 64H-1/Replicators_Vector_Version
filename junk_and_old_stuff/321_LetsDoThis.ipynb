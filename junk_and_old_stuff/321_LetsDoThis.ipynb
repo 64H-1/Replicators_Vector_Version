{
 "cells": [
  {
   "cell_type": "markdown",
   "metadata": {},
   "source": [
    "First attempt at creating the replicants I imagined.\n",
    "We will be using mesa, to simulate the agents interacting.\n",
    "Later on we will use networkx, to greate interesting Graphs for them to live in.\n",
    "But for now, all we want is a minimal working prototype."
   ]
  },
  {
   "cell_type": "markdown",
   "metadata": {},
   "source": [
    "The goal is to find the smalles common denominator of replicant systems.\n",
    "Find the smallest, simplest ruleset that can emulate interesing/complex behaviour seen in genes as well as memes."
   ]
  },
  {
   "cell_type": "markdown",
   "metadata": {},
   "source": [
    "First, lets define the replicants themselves. They won't be the agents of the *simulation* even though they are the  \"agents\" in our *theoretical model*. This is because\n",
    "\n",
    "1. We can derive the optimal (or a close approximation thereof) decisions of the replicants analytically.\n",
    "\n",
    "2. The mesa framework appears to lend itsself better to regarding the vehicles which contain the replicants as agents."
   ]
  },
  {
   "cell_type": "code",
   "execution_count": 1,
   "metadata": {},
   "outputs": [],
   "source": [
    "    %matplotlib inline \n",
    "    #no idea what this does\n",
    "    \n",
    "    import matplotlib.pyplot as plt"
   ]
  },
  {
   "cell_type": "code",
   "execution_count": 2,
   "metadata": {},
   "outputs": [],
   "source": [
    "import random\n",
    "random.seed(1234)\n",
    "\n",
    "from replicant import Replicant"
   ]
  },
  {
   "cell_type": "markdown",
   "metadata": {},
   "source": [
    "The only thing that defines a Replicant is its single attribute, a value between -1 and 1."
   ]
  },
  {
   "cell_type": "markdown",
   "metadata": {},
   "source": [
    "Let us define the optimisation probelm that our Replicants must solve together. We choose the Knapsack problem because it is a difficult problem, highly nonliear in its inputs, and adds a minimal overhead of assumptions.\n",
    "\n",
    "We are open to alternative suggestions."
   ]
  },
  {
   "cell_type": "code",
   "execution_count": 3,
   "metadata": {},
   "outputs": [],
   "source": [
    "import knapsack"
   ]
  },
  {
   "cell_type": "markdown",
   "metadata": {},
   "source": [
    "Now, we can define our vehicles. (Which mesa calls agents)"
   ]
  },
  {
   "cell_type": "code",
   "execution_count": 4,
   "metadata": {},
   "outputs": [],
   "source": [
    "from mesa import Agent"
   ]
  },
  {
   "cell_type": "code",
   "execution_count": 5,
   "metadata": {},
   "outputs": [],
   "source": [
    "from vehicle import Vehicle\n",
    "from replicant import Replicant"
   ]
  },
  {
   "cell_type": "code",
   "execution_count": 6,
   "metadata": {},
   "outputs": [],
   "source": [
    "from mesa import Model\n",
    "from mesa.time import StagedActivation\n",
    "from mesa.space import SingleGrid\n",
    "\n",
    "class RepModel(Model):\n",
    "    \"\"\"A model for Replicants.\"\"\"\n",
    "    def __init__(self):\n",
    "        self.schedule = StagedActivation(self, [\"mutate\", \"interact\"], True, True)\n",
    "        # Args:\n",
    "        #    model: Model object associated with the schedule.\n",
    "        #    stage_list: List of strings of names of stages to run, in the\n",
    "         #                order to run them in.\n",
    "          #  shuffle: If True, shuffle the order of agents each step.\n",
    "           # shuffle_between_stages: If True, shuffle the agents after each\n",
    "            #                        stage; otherwise, only shuffle at the start\n",
    "             #                       of each step.\n",
    "        \n",
    "        self.grid = SingleGrid(10,10,True)\n",
    "        \n",
    "        #create initial agent(s).\n",
    "        primordial_vehicle = Vehicle(1, self, [Replicant(), Replicant()])\n",
    "        \n",
    "        #place in schedule\n",
    "        self.schedule.add(primordial_vehicle)\n",
    "        \n",
    "        #place in grid\n",
    "        self.grid.place_agent(primordial_vehicle, (1,1))\n",
    "        \n",
    "        # create and place evil twin.\n",
    "        replicant2 = Replicant()\n",
    "        replicant3 = Replicant()\n",
    "        vehicle2 = Vehicle(2, self, [replicant3,Replicant()])\n",
    "        \n",
    "        #place in schedule\n",
    "        self.schedule.add(vehicle2)\n",
    "        \n",
    "        #place in grid\n",
    "        self.grid.place_agent(vehicle2, (6,6))\n",
    "        \n",
    "    def step(self):\n",
    "        \"\"\"Advance model by one step.\"\"\"\n",
    "        self.schedule.step()"
   ]
  },
  {
   "cell_type": "code",
   "execution_count": 7,
   "metadata": {},
   "outputs": [
    {
     "data": {
      "text/plain": [
       "<mesa.space.SingleGrid at 0x7efde4684820>"
      ]
     },
     "execution_count": 7,
     "metadata": {},
     "output_type": "execute_result"
    }
   ],
   "source": [
    "testmodel = RepModel()\n",
    "testmodel.grid"
   ]
  },
  {
   "cell_type": "code",
   "execution_count": 36,
   "metadata": {},
   "outputs": [
    {
     "name": "stdout",
     "output_type": "stream",
     "text": [
      "768  has mutated to  330\n",
      "751  has mutated to  92\n",
      "993  has mutated to  734\n",
      "870  has mutated to  730\n",
      "557  has mutated to  435\n",
      "469  died, due to deleting its last Replicant.\n",
      "687  died, due to deleting its last Replicant.\n",
      "262  died, due to deleting its last Replicant.\n",
      "373  died, due to deleting its last Replicant.\n",
      "169  died, due to deleting its last Replicant.\n",
      "214  died, due to deleting its last Replicant.\n",
      "462  died, due to deleting its last Replicant.\n"
     ]
    },
    {
     "ename": "ValueError",
     "evalue": "empty range for randrange() (0, 0, 0)",
     "output_type": "error",
     "traceback": [
      "\u001b[0;31m---------------------------------------------------------------------------\u001b[0m",
      "\u001b[0;31mValueError\u001b[0m                                Traceback (most recent call last)",
      "\u001b[0;32m<ipython-input-36-aa60e49310ed>\u001b[0m in \u001b[0;36m<module>\u001b[0;34m\u001b[0m\n\u001b[1;32m     12\u001b[0m \u001b[0mplt\u001b[0m\u001b[0;34m.\u001b[0m\u001b[0mcolorbar\u001b[0m\u001b[0;34m(\u001b[0m\u001b[0;34m)\u001b[0m\u001b[0;34m\u001b[0m\u001b[0;34m\u001b[0m\u001b[0m\n\u001b[1;32m     13\u001b[0m \u001b[0;34m\u001b[0m\u001b[0m\n\u001b[0;32m---> 14\u001b[0;31m \u001b[0mtestmodel\u001b[0m\u001b[0;34m.\u001b[0m\u001b[0mstep\u001b[0m\u001b[0;34m(\u001b[0m\u001b[0;34m)\u001b[0m\u001b[0;34m\u001b[0m\u001b[0;34m\u001b[0m\u001b[0m\n\u001b[0m\u001b[1;32m     15\u001b[0m \u001b[0mprint\u001b[0m\u001b[0;34m(\u001b[0m\u001b[0;34m[\u001b[0m\u001b[0ma\u001b[0m\u001b[0;34m.\u001b[0m\u001b[0munique_id\u001b[0m \u001b[0;32mfor\u001b[0m \u001b[0ma\u001b[0m \u001b[0;32min\u001b[0m \u001b[0mtestmodel\u001b[0m\u001b[0;34m.\u001b[0m\u001b[0mschedule\u001b[0m\u001b[0;34m.\u001b[0m\u001b[0magents\u001b[0m\u001b[0;34m]\u001b[0m\u001b[0;34m)\u001b[0m\u001b[0;34m\u001b[0m\u001b[0;34m\u001b[0m\u001b[0m\n",
      "\u001b[0;32m<ipython-input-6-bf74d99be6a8>\u001b[0m in \u001b[0;36mstep\u001b[0;34m(self)\u001b[0m\n\u001b[1;32m     40\u001b[0m     \u001b[0;32mdef\u001b[0m \u001b[0mstep\u001b[0m\u001b[0;34m(\u001b[0m\u001b[0mself\u001b[0m\u001b[0;34m)\u001b[0m\u001b[0;34m:\u001b[0m\u001b[0;34m\u001b[0m\u001b[0;34m\u001b[0m\u001b[0m\n\u001b[1;32m     41\u001b[0m         \u001b[0;34m\"\"\"Advance model by one step.\"\"\"\u001b[0m\u001b[0;34m\u001b[0m\u001b[0;34m\u001b[0m\u001b[0m\n\u001b[0;32m---> 42\u001b[0;31m         \u001b[0mself\u001b[0m\u001b[0;34m.\u001b[0m\u001b[0mschedule\u001b[0m\u001b[0;34m.\u001b[0m\u001b[0mstep\u001b[0m\u001b[0;34m(\u001b[0m\u001b[0;34m)\u001b[0m\u001b[0;34m\u001b[0m\u001b[0;34m\u001b[0m\u001b[0m\n\u001b[0m",
      "\u001b[0;32m~/.local/lib/python3.9/site-packages/mesa/time.py\u001b[0m in \u001b[0;36mstep\u001b[0;34m(self)\u001b[0m\n\u001b[1;32m    195\u001b[0m         \u001b[0;32mfor\u001b[0m \u001b[0mstage\u001b[0m \u001b[0;32min\u001b[0m \u001b[0mself\u001b[0m\u001b[0;34m.\u001b[0m\u001b[0mstage_list\u001b[0m\u001b[0;34m:\u001b[0m\u001b[0;34m\u001b[0m\u001b[0;34m\u001b[0m\u001b[0m\n\u001b[1;32m    196\u001b[0m             \u001b[0;32mfor\u001b[0m \u001b[0magent_key\u001b[0m \u001b[0;32min\u001b[0m \u001b[0magent_keys\u001b[0m\u001b[0;34m:\u001b[0m\u001b[0;34m\u001b[0m\u001b[0;34m\u001b[0m\u001b[0m\n\u001b[0;32m--> 197\u001b[0;31m                 \u001b[0mgetattr\u001b[0m\u001b[0;34m(\u001b[0m\u001b[0mself\u001b[0m\u001b[0;34m.\u001b[0m\u001b[0m_agents\u001b[0m\u001b[0;34m[\u001b[0m\u001b[0magent_key\u001b[0m\u001b[0;34m]\u001b[0m\u001b[0;34m,\u001b[0m \u001b[0mstage\u001b[0m\u001b[0;34m)\u001b[0m\u001b[0;34m(\u001b[0m\u001b[0;34m)\u001b[0m  \u001b[0;31m# Run stage\u001b[0m\u001b[0;34m\u001b[0m\u001b[0;34m\u001b[0m\u001b[0m\n\u001b[0m\u001b[1;32m    198\u001b[0m             \u001b[0;32mif\u001b[0m \u001b[0mself\u001b[0m\u001b[0;34m.\u001b[0m\u001b[0mshuffle_between_stages\u001b[0m\u001b[0;34m:\u001b[0m\u001b[0;34m\u001b[0m\u001b[0;34m\u001b[0m\u001b[0m\n\u001b[1;32m    199\u001b[0m                 \u001b[0mself\u001b[0m\u001b[0;34m.\u001b[0m\u001b[0mmodel\u001b[0m\u001b[0;34m.\u001b[0m\u001b[0mrandom\u001b[0m\u001b[0;34m.\u001b[0m\u001b[0mshuffle\u001b[0m\u001b[0;34m(\u001b[0m\u001b[0magent_keys\u001b[0m\u001b[0;34m)\u001b[0m\u001b[0;34m\u001b[0m\u001b[0;34m\u001b[0m\u001b[0m\n",
      "\u001b[0;32m~/Desktop/Python_Replicants/replicants/vehicle.py\u001b[0m in \u001b[0;36mmutate\u001b[0;34m(self)\u001b[0m\n\u001b[1;32m    125\u001b[0m         \u001b[0;32mif\u001b[0m \u001b[0mm\u001b[0m \u001b[0;34m>\u001b[0m \u001b[0mrandom\u001b[0m\u001b[0;34m.\u001b[0m\u001b[0mrandom\u001b[0m\u001b[0;34m(\u001b[0m\u001b[0;34m)\u001b[0m\u001b[0;34m:\u001b[0m\u001b[0;34m\u001b[0m\u001b[0;34m\u001b[0m\u001b[0m\n\u001b[1;32m    126\u001b[0m             \u001b[0;31m# remove a random element\u001b[0m\u001b[0;34m\u001b[0m\u001b[0;34m\u001b[0m\u001b[0;34m\u001b[0m\u001b[0m\n\u001b[0;32m--> 127\u001b[0;31m             \u001b[0mmutated_replicants\u001b[0m\u001b[0;34m.\u001b[0m\u001b[0mpop\u001b[0m\u001b[0;34m(\u001b[0m\u001b[0mrandom\u001b[0m\u001b[0;34m.\u001b[0m\u001b[0mrandrange\u001b[0m\u001b[0;34m(\u001b[0m\u001b[0;36m0\u001b[0m\u001b[0;34m,\u001b[0m\u001b[0mlen\u001b[0m\u001b[0;34m(\u001b[0m\u001b[0mmutated_replicants\u001b[0m\u001b[0;34m)\u001b[0m\u001b[0;34m)\u001b[0m\u001b[0;34m)\u001b[0m\u001b[0;34m\u001b[0m\u001b[0;34m\u001b[0m\u001b[0m\n\u001b[0m\u001b[1;32m    128\u001b[0m             \u001b[0mmutated_bool\u001b[0m \u001b[0;34m=\u001b[0m\u001b[0;32mTrue\u001b[0m\u001b[0;34m\u001b[0m\u001b[0;34m\u001b[0m\u001b[0m\n\u001b[1;32m    129\u001b[0m \u001b[0;34m\u001b[0m\u001b[0m\n",
      "\u001b[0;32m/usr/lib64/python3.9/random.py\u001b[0m in \u001b[0;36mrandrange\u001b[0;34m(self, start, stop, step)\u001b[0m\n\u001b[1;32m    314\u001b[0m             \u001b[0;32mreturn\u001b[0m \u001b[0mistart\u001b[0m \u001b[0;34m+\u001b[0m \u001b[0mself\u001b[0m\u001b[0;34m.\u001b[0m\u001b[0m_randbelow\u001b[0m\u001b[0;34m(\u001b[0m\u001b[0mwidth\u001b[0m\u001b[0;34m)\u001b[0m\u001b[0;34m\u001b[0m\u001b[0;34m\u001b[0m\u001b[0m\n\u001b[1;32m    315\u001b[0m         \u001b[0;32mif\u001b[0m \u001b[0mstep\u001b[0m \u001b[0;34m==\u001b[0m \u001b[0;36m1\u001b[0m\u001b[0;34m:\u001b[0m\u001b[0;34m\u001b[0m\u001b[0;34m\u001b[0m\u001b[0m\n\u001b[0;32m--> 316\u001b[0;31m             \u001b[0;32mraise\u001b[0m \u001b[0mValueError\u001b[0m\u001b[0;34m(\u001b[0m\u001b[0;34m\"empty range for randrange() (%d, %d, %d)\"\u001b[0m \u001b[0;34m%\u001b[0m \u001b[0;34m(\u001b[0m\u001b[0mistart\u001b[0m\u001b[0;34m,\u001b[0m \u001b[0mistop\u001b[0m\u001b[0;34m,\u001b[0m \u001b[0mwidth\u001b[0m\u001b[0;34m)\u001b[0m\u001b[0;34m)\u001b[0m\u001b[0;34m\u001b[0m\u001b[0;34m\u001b[0m\u001b[0m\n\u001b[0m\u001b[1;32m    317\u001b[0m \u001b[0;34m\u001b[0m\u001b[0m\n\u001b[1;32m    318\u001b[0m         \u001b[0;31m# Non-unit step argument supplied.\u001b[0m\u001b[0;34m\u001b[0m\u001b[0;34m\u001b[0m\u001b[0;34m\u001b[0m\u001b[0m\n",
      "\u001b[0;31mValueError\u001b[0m: empty range for randrange() (0, 0, 0)"
     ]
    },
    {
     "data": {
      "image/png": "[encoded data removed]",
      "text/plain": [
       "<Figure size 432x288 with 2 Axes>"
      ]
     },
     "metadata": {
      "needs_background": "light"
     },
     "output_type": "display_data"
    }
   ],
   "source": [
    "# VISUALISE; YEAH!\n",
    "\n",
    "import numpy as np\n",
    "\n",
    "cell_fitness = np.zeros((testmodel.grid.width, testmodel.grid.height))\n",
    "for cell in testmodel.grid.coord_iter():\n",
    "    cell_content, x, y = cell\n",
    "    if not testmodel.grid.is_cell_empty((x,y)):\n",
    "        cell_fitness[x][y] = cell_content.fitness\n",
    "\n",
    "plt.imshow(cell_fitness)\n",
    "plt.colorbar()\n",
    "\n",
    "testmodel.step()\n",
    "print([a.unique_id for a in testmodel.schedule.agents])"
   ]
  },
  {
   "cell_type": "markdown",
   "metadata": {},
   "source": [
    "Houston, we have a problem.\n",
    "\n",
    "We are using the \"StagedActivation\" mode to have two different stages. \"mutate\" in which the vehicles mutate, and \"interact\",\n",
    "in which they interact.\n",
    "The problem is: the schedule is apparently not updated between stages.\n",
    "That means:\n",
    "    1. We get key errors when agents are requested that were deleted in the last stage.\n",
    "    2. We miss agents that were created in the last stage.\n",
    "\n",
    "Options:\n",
    "    1. Research StagedActivation for known fixes.\n",
    "    2. Fix mutate() and interact() to play nice together.\n",
    "        - Mark for deletion, but only delete in the last stage?\n",
    "        - Seems like a fucky solution.\n",
    "    3.Integrate both stages into one step() function.\n",
    "        - Either deterministically: store a round variable that is either \"mutate\" or \"interact\"\n",
    "        - or probabilistically: 0.5 chance to interact(). 0.5 chance to mutate(). (mutate() still rolls the dice if you actually mutate or not! 0.5 is only the chance to have a \"mutate\" round!)\n",
    "\n",
    "Actually, the problem might run deeper :(\n",
    "\n",
    "Question: Are dead agents, that were killed earlier in the round/step, by another agent whos turn was earlier that round/step,\n",
    "really dead? Or are they called by the schedule? If that is the case, we can basically throw out this whole project\n",
    "and go back to java... :(\n",
    "\n",
    "That would mean that the activation order only matters to the grid, which is live, while the schedule is only updated at once per round.\n",
    "\n"
   ]
  }
 ],
 "metadata": {
  "kernelspec": {
   "display_name": "Python 3",
   "language": "python",
   "name": "python3"
  },
  "language_info": {
   "codemirror_mode": {
    "name": "ipython",
    "version": 3
   },
   "file_extension": ".py",
   "mimetype": "text/x-python",
   "name": "python",
   "nbconvert_exporter": "python",
   "pygments_lexer": "ipython3",
   "version": "3.9.0"
  }
 },
 "nbformat": 4,
 "nbformat_minor": 4
}
