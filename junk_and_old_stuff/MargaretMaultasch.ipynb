{
 "cells": [
  {
   "cell_type": "code",
   "execution_count": 1,
   "metadata": {},
   "outputs": [],
   "source": [
    "ciphertext = [(2,6), (9,8), (2,5), (3,1), (2,3), (6,4), (2,6), (2,30), (9,13), (2,5), (3,1), (4,9), (2,5), (6,5), (4,17), (3,1), (6,5), (2,6), (2,5), (9,13), (2,5), (2,3), (5,1), (2,3), (2,6), (6,1), (1,2), (15,4), (15,3), (15,4), (15,1), (15,3), (15,4), (15,3), (15,1), (5,1), (1,2), (15,1), (15,2), (5,1), (9,13), (6,5), (15,3), (15,4), (7,7), (2,5), (2,3), (4,9), (6,5), (2,5), (4,3), (4,3), (3,6), (5,1), (2,3), (4,13), (4,9), (13,8), (2,5), (6,5), (6,5), (6,1), (2,5), (4,9), (7,7), (3,1), (6,5), (7,7), (2,5), (3,1), (2,3), (2,5), (3,6), (3,1), (7,4), (2,5), (6,1)]"
   ]
  },
  {
   "cell_type": "code",
   "execution_count": 6,
   "metadata": {},
   "outputs": [],
   "source": [
    "import matplotlib.pyplot as plt\n",
    "from collections import Counter\n",
    "\n",
    "freq = Counter(ciphertext).most_common()"
   ]
  },
  {
   "cell_type": "code",
   "execution_count": 8,
   "metadata": {},
   "outputs": [],
   "source": [
    "# note: häufigste wörter:  die  der  und  den  am  in  zu  ist  daß  es \n",
    "deutsch =['E','N','I','S','R']"
   ]
  },
  {
   "cell_type": "code",
   "execution_count": 28,
   "metadata": {},
   "outputs": [],
   "source": [
    "mapping = {freq[i][0] : deutsch[i] for i in range(0, len(deutsch))}"
   ]
  },
  {
   "cell_type": "code",
   "execution_count": 35,
   "metadata": {},
   "outputs": [],
   "source": [
    "deciphered = [mapping.get(j) for j in ciphertext]"
   ]
  },
  {
   "cell_type": "code",
   "execution_count": 36,
   "metadata": {},
   "outputs": [
    {
     "data": {
      "text/plain": [
       "['R',\n",
       " None,\n",
       " 'E',\n",
       " 'I',\n",
       " 'S',\n",
       " None,\n",
       " 'R',\n",
       " None,\n",
       " None,\n",
       " 'E',\n",
       " 'I',\n",
       " None,\n",
       " 'E',\n",
       " 'N',\n",
       " None,\n",
       " 'I',\n",
       " 'N',\n",
       " 'R',\n",
       " 'E',\n",
       " None,\n",
       " 'E',\n",
       " 'S',\n",
       " None,\n",
       " 'S',\n",
       " 'R',\n",
       " None,\n",
       " None,\n",
       " None,\n",
       " None,\n",
       " None,\n",
       " None,\n",
       " None,\n",
       " None,\n",
       " None,\n",
       " None,\n",
       " None,\n",
       " None,\n",
       " None,\n",
       " None,\n",
       " None,\n",
       " None,\n",
       " 'N',\n",
       " None,\n",
       " None,\n",
       " None,\n",
       " 'E',\n",
       " 'S',\n",
       " None,\n",
       " 'N',\n",
       " 'E',\n",
       " None,\n",
       " None,\n",
       " None,\n",
       " None,\n",
       " 'S',\n",
       " None,\n",
       " None,\n",
       " None,\n",
       " 'E',\n",
       " 'N',\n",
       " 'N',\n",
       " None,\n",
       " 'E',\n",
       " None,\n",
       " None,\n",
       " 'I',\n",
       " 'N',\n",
       " None,\n",
       " 'E',\n",
       " 'I',\n",
       " 'S',\n",
       " 'E',\n",
       " None,\n",
       " 'I',\n",
       " None,\n",
       " 'E',\n",
       " None]"
      ]
     },
     "execution_count": 36,
     "metadata": {},
     "output_type": "execute_result"
    }
   ],
   "source": [
    "deciphered"
   ]
  },
  {
   "cell_type": "code",
   "execution_count": 38,
   "metadata": {},
   "outputs": [
    {
     "data": {
      "text/plain": [
       "24"
      ]
     },
     "execution_count": 38,
     "metadata": {},
     "output_type": "execute_result"
    }
   ],
   "source": [
    "len(set(ciphertext))"
   ]
  }
 ],
 "metadata": {
  "kernelspec": {
   "display_name": "Python 3",
   "language": "python",
   "name": "python3"
  },
  "language_info": {
   "codemirror_mode": {
    "name": "ipython",
    "version": 3
   },
   "file_extension": ".py",
   "mimetype": "text/x-python",
   "name": "python",
   "nbconvert_exporter": "python",
   "pygments_lexer": "ipython3",
   "version": "3.9.0"
  }
 },
 "nbformat": 4,
 "nbformat_minor": 4
}
