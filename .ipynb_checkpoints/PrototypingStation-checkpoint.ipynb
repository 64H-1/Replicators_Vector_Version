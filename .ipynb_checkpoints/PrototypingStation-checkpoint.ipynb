{
 "cells": [
  {
   "cell_type": "markdown",
   "metadata": {},
   "source": [
    "Ok, let's get this starty parted.\n",
    "The general design is As follows:\n",
    "The model class will consist of:\n",
    "    - a graph (networkx)\n",
    "    - a state, that is a list/array, that maps integers(i.e. nodes) to species\n",
    "    - a step function\n",
    "        - interaction step\n",
    "        - mutation step\n",
    "    - a display function.\n",
    "    \n",
    "We will start with the graph and the display function, which will grant us eyes to aid in designing and testing the rest."
   ]
  },
  {
   "cell_type": "code",
   "execution_count": 1,
   "metadata": {},
   "outputs": [],
   "source": [
    "import networkx as nx\n",
    "import random\n",
    "from species import Species\n",
    "from model import Model\n",
    "\n",
    "import matplotlib.pyplot as plt\n",
    "%matplotlib inline"
   ]
  },
  {
   "cell_type": "code",
   "execution_count": 2,
   "metadata": {},
   "outputs": [],
   "source": [
    "myModels = [Model(nx.barabasi_albert_graph(70,2), 10, 0.0, True)]\n",
    "myModels.extend( [Model(nx.barabasi_albert_graph(70,2), 10, 0.0, False)] )"
   ]
  },
  {
   "cell_type": "code",
   "execution_count": 3,
   "metadata": {},
   "outputs": [
    {
     "data": {
      "text/plain": [
       "[<model.Model at 0x7f1ce638b730>, <model.Model at 0x7f1d1cb57fd0>]"
      ]
     },
     "execution_count": 3,
     "metadata": {},
     "output_type": "execute_result"
    }
   ],
   "source": [
    "myModels"
   ]
  },
  {
   "cell_type": "code",
   "execution_count": 4,
   "metadata": {},
   "outputs": [],
   "source": [
    "max_fitness_collectors = []\n",
    "max_replicants_lens=[]\n",
    "average_fitness_collectors=[]"
   ]
  },
  {
   "cell_type": "code",
   "execution_count": 5,
   "metadata": {},
   "outputs": [
    {
     "name": "stdout",
     "output_type": "stream",
     "text": [
      "Running model Nr. 0\n",
      "V214930  surrendered to  Vcb5bb8  Fitness: 2.080368921919806  ->  12.709892383535697\n",
      "V2e1753  surrendered to  Vefd7f6  Fitness: 2.880695211589657  ->  239.84361030787355\n",
      "Vd37a3f  surrendered to  Vefd7f6  Fitness: 0.8260841355104552  ->  239.84361030787355\n",
      "V16e694  surrendered to  V1c3bd5  Fitness: 1.4312941454644208  ->  1.7646082863670365\n",
      "V9b481a  surrendered to  Vefd7f6  Fitness: 155.28165236242833  ->  239.84361030787355\n",
      "V9b481a  surrendered to  Vefd7f6  Fitness: 155.28165236242833  ->  239.84361030787355\n",
      "V9b481a  surrendered to  Vefd7f6  Fitness: 155.28165236242833  ->  239.84361030787355\n",
      "V9b481a  surrendered to  Vefd7f6  Fitness: 155.28165236242833  ->  239.84361030787355\n",
      "V9b481a  surrendered to  Vefd7f6  Fitness: 155.28165236242833  ->  239.84361030787355\n",
      "V9b481a  surrendered to  Vefd7f6  Fitness: 155.28165236242833  ->  239.84361030787355\n",
      "V9b481a  surrendered to  Vefd7f6  Fitness: 155.28165236242833  ->  239.84361030787355\n",
      "V4dc251  surrendered to  Vefd7f6  Fitness: 4.859940667644894  ->  239.84361030787355\n",
      "V9b481a  surrendered to  Vefd7f6  Fitness: 155.28165236242833  ->  239.84361030787355\n",
      "V10c1e8  surrendered to  Vefd7f6  Fitness: 1.0473410696143068  ->  239.84361030787355\n",
      "V9b481a  surrendered to  Vefd7f6  Fitness: 155.28165236242833  ->  239.84361030787355\n",
      "V9b481a  surrendered to  Vefd7f6  Fitness: 155.28165236242833  ->  239.84361030787355\n",
      "V9b481a  surrendered to  Vefd7f6  Fitness: 155.28165236242833  ->  239.84361030787355\n",
      "V9b481a  surrendered to  Vefd7f6  Fitness: 155.28165236242833  ->  239.84361030787355\n",
      "V9b481a  surrendered to  Vefd7f6  Fitness: 155.28165236242833  ->  239.84361030787355\n",
      "V9b481a  surrendered to  Vefd7f6  Fitness: 155.28165236242833  ->  239.84361030787355\n",
      "V9b481a  surrendered to  Vefd7f6  Fitness: 155.28165236242833  ->  239.84361030787355\n",
      "V4b5a8e  surrendered to  Vefd7f6  Fitness: 4.709608347928516  ->  239.84361030787355\n",
      "V9b481a  surrendered to  Vefd7f6  Fitness: 155.28165236242833  ->  239.84361030787355\n",
      "V9b481a  surrendered to  Vefd7f6  Fitness: 155.28165236242833  ->  239.84361030787355\n",
      "V9b481a  surrendered to  Vefd7f6  Fitness: 155.28165236242833  ->  239.84361030787355\n",
      "V9b481a  surrendered to  Vefd7f6  Fitness: 155.28165236242833  ->  239.84361030787355\n",
      "V9b481a  surrendered to  Vefd7f6  Fitness: 155.28165236242833  ->  239.84361030787355\n",
      "V9b481a  surrendered to  Vefd7f6  Fitness: 155.28165236242833  ->  239.84361030787355\n",
      "V9b481a  surrendered to  Vefd7f6  Fitness: 155.28165236242833  ->  239.84361030787355\n",
      "V9b481a  surrendered to  Vefd7f6  Fitness: 155.28165236242833  ->  239.84361030787355\n",
      "V9b481a  surrendered to  Vefd7f6  Fitness: 155.28165236242833  ->  239.84361030787355\n",
      "V9b481a  surrendered to  Vefd7f6  Fitness: 155.28165236242833  ->  239.84361030787355\n",
      "V9b481a  surrendered to  Vefd7f6  Fitness: 155.28165236242833  ->  239.84361030787355\n",
      "V9b481a  surrendered to  Vefd7f6  Fitness: 155.28165236242833  ->  239.84361030787355\n",
      "V9b481a  surrendered to  Vefd7f6  Fitness: 155.28165236242833  ->  239.84361030787355\n",
      "V9b481a  surrendered to  Vefd7f6  Fitness: 155.28165236242833  ->  239.84361030787355\n",
      "V9b481a  surrendered to  Vefd7f6  Fitness: 155.28165236242833  ->  239.84361030787355\n",
      "V9b481a  surrendered to  Vefd7f6  Fitness: 155.28165236242833  ->  239.84361030787355\n",
      "V9b481a  surrendered to  Vefd7f6  Fitness: 155.28165236242833  ->  239.84361030787355\n",
      "V9b481a  surrendered to  Vefd7f6  Fitness: 155.28165236242833  ->  239.84361030787355\n",
      "V9b481a  surrendered to  Vefd7f6  Fitness: 155.28165236242833  ->  239.84361030787355\n",
      "V9b481a  surrendered to  Vefd7f6  Fitness: 155.28165236242833  ->  239.84361030787355\n",
      "V9b481a  surrendered to  Vefd7f6  Fitness: 155.28165236242833  ->  239.84361030787355\n",
      "V9b481a  surrendered to  Vefd7f6  Fitness: 155.28165236242833  ->  239.84361030787355\n",
      "Va71277  surrendered to  Vefd7f6  Fitness: 10.44200837033666  ->  239.84361030787355\n",
      "V18aa3e  surrendered to  Vefd7f6  Fitness: 1.541563184939868  ->  239.84361030787355\n",
      "V3a1972  surrendered to  Vefd7f6  Fitness: 3.631213063686411  ->  239.84361030787355\n",
      "V19dcd8  surrendered to  Vefd7f6  Fitness: 1.6164176451810308  ->  239.84361030787355\n",
      "V189ed4  surrendered to  Vefd7f6  Fitness: 24.620433533268788  ->  239.84361030787355\n",
      "V1fd9be  surrendered to  Vefd7f6  Fitness: 1.9906602061895202  ->  239.84361030787355\n",
      "V8a2cf2  surrendered to  Vefd7f6  Fitness: 8.635973264780162  ->  239.84361030787355\n",
      "V2356df  surrendered to  Vefd7f6  Fitness: 2.2087093559661324  ->  239.84361030787355\n",
      "Vcb5bb8  surrendered to  Vefd7f6  Fitness: 12.709892383535697  ->  239.84361030787355\n",
      "V60f94e  surrendered to  Vefd7f6  Fitness: 96.97385519649742  ->  239.84361030787355\n",
      "V321967  surrendered to  Vefd7f6  Fitness: 3.131202494812704  ->  239.84361030787355\n",
      "V134efc  surrendered to  Vefd7f6  Fitness: 19.30853641287869  ->  239.84361030787355\n",
      "V8d6cae  surrendered to  Vefd7f6  Fitness: 141.42454066042546  ->  239.84361030787355\n",
      "V1d9fbe  surrendered to  Vefd7f6  Fitness: 1.8514999884633314  ->  239.84361030787355\n",
      "V1caa87  surrendered to  Vefd7f6  Fitness: 1.7916329163161826  ->  239.84361030787355\n",
      "V6714e1  surrendered to  Vefd7f6  Fitness: 6.442598136999746  ->  239.84361030787355\n",
      "V155017  surrendered to  Vefd7f6  Fitness: 1.3320532844340194  ->  239.84361030787355\n",
      "V132c3a  surrendered to  Vefd7f6  Fitness: 1.1982976361066233  ->  239.84361030787355\n",
      "V54c2ce  surrendered to  Vefd7f6  Fitness: 5.2975598633700685  ->  239.84361030787355\n",
      "Vcb5bb8  surrendered to  Vefd7f6  Fitness: 12.709892383535697  ->  239.84361030787355\n",
      "Vcb5bb8  surrendered to  Vefd7f6  Fitness: 12.709892383535697  ->  239.84361030787355\n",
      "V18aa3e  surrendered to  Vefd7f6  Fitness: 1.541563184939868  ->  239.84361030787355\n",
      "V18aa3e  surrendered to  Vefd7f6  Fitness: 1.541563184939868  ->  239.84361030787355\n",
      "V151bd3  surrendered to  Vefd7f6  Fitness: 21.108698073786805  ->  239.84361030787355\n",
      "V12224b  surrendered to  Vefd7f6  Fitness: 1.1333723712234518  ->  239.84361030787355\n",
      "V3c8a1d  surrendered to  Vc694b0  Fitness: 3.783719997834064  ->  12.411301223163818\n",
      "V1ab544  surrendered to  Vefd7f6  Fitness: 26.708077157894035  ->  239.84361030787355\n",
      "V18aa3e  surrendered to  Vefd7f6  Fitness: 1.541563184939868  ->  239.84361030787355\n",
      "Vcb5bb8  surrendered to  Vefd7f6  Fitness: 12.709892383535697  ->  239.84361030787355\n",
      "V18aa3e  surrendered to  Vefd7f6  Fitness: 1.541563184939868  ->  239.84361030787355\n",
      "Vb4aa60  surrendered to  Vefd7f6  Fitness: 11.291595670424332  ->  239.84361030787355\n",
      "V7685a3  surrendered to  Vefd7f6  Fitness: 7.407626677599538  ->  239.84361030787355\n",
      "Vcb5bb8  surrendered to  Vefd7f6  Fitness: 12.709892383535697  ->  239.84361030787355\n",
      "V5c3fd9  surrendered to  Vefd7f6  Fitness: 5.765588034818629  ->  239.84361030787355\n",
      "V311ee0  surrendered to  Vefd7f6  Fitness: 3.0700383493036982  ->  239.84361030787355\n",
      "Vbacb59  surrendered to  Vefd7f6  Fitness: 11.674645499926877  ->  239.84361030787355\n",
      "V14f898  surrendered to  Vefd7f6  Fitness: 1.3106927282526528  ->  239.84361030787355\n",
      "Vcb5bb8  surrendered to  Vefd7f6  Fitness: 12.709892383535697  ->  239.84361030787355\n",
      "V217a6f  surrendered to  Vefd7f6  Fitness: 33.47826708460731  ->  239.84361030787355\n",
      "V167b3e  surrendered to  Vefd7f6  Fitness: 1.4050892312140153  ->  239.84361030787355\n",
      "V1c904a  surrendered to  Vefd7f6  Fitness: 1.7852271449315789  ->  239.84361030787355\n",
      "Vcb5bb8  surrendered to  Vefd7f6  Fitness: 12.709892383535697  ->  239.84361030787355\n",
      "V11fadf  surrendered to  Vefd7f6  Fitness: 1.1237485240036194  ->  239.84361030787355\n",
      "V3c5622  surrendered to  Vefd7f6  Fitness: 3.7710294115382323  ->  239.84361030787355\n",
      "V15df24  surrendered to  Ve72158  Fitness: 1.366978414257197  ->  14.445640692269784\n",
      "V2655b5  surrendered to  Vefd7f6  Fitness: 2.3959253148489843  ->  239.84361030787355\n",
      "V1d8bce  surrendered to  Vefd7f6  Fitness: 1.8466328865044315  ->  239.84361030787355\n",
      "Vcb5bb8  surrendered to  Vefd7f6  Fitness: 12.709892383535697  ->  239.84361030787355\n",
      "Vcb5bb8  surrendered to  Vefd7f6  Fitness: 12.709892383535697  ->  239.84361030787355\n",
      "V18aa3e  surrendered to  Vefd7f6  Fitness: 1.541563184939868  ->  239.84361030787355\n",
      "V128ea1  surrendered to  Vefd7f6  Fitness: 1.1598216759101672  ->  239.84361030787355\n",
      "V2368ba  surrendered to  Vefd7f6  Fitness: 2.21306841049981  ->  239.84361030787355\n",
      "V169ca4  surrendered to  Vefd7f6  Fitness: 1.4132426215202323  ->  239.84361030787355\n",
      "V163413  surrendered to  Vefd7f6  Fitness: 1.387714329586618  ->  239.84361030787355\n",
      "Vcb5bb8  surrendered to  Vefd7f6  Fitness: 12.709892383535697  ->  239.84361030787355\n",
      "V1b239e  surrendered to  Vefd7f6  Fitness: 1.6961958933138628  ->  239.84361030787355\n",
      "V18aa3e  surrendered to  Vefd7f6  Fitness: 1.541563184939868  ->  239.84361030787355\n",
      "Vcb5bb8  surrendered to  Vefd7f6  Fitness: 12.709892383535697  ->  239.84361030787355\n",
      "V234270  surrendered to  V2cb028  Fitness: 2.2037203540585253  ->  715.0097829536884\n",
      "V130632  surrendered to  Vefd7f6  Fitness: 1.1890127061443345  ->  239.84361030787355\n",
      "Vefd7f6  surrendered to  V2cb028  Fitness: 239.84361030787355  ->  715.0097829536884\n",
      "V2d8362  surrendered to  Vd2d4f3  Fitness: 2.8445762780036747  ->  13.176990301516456\n",
      "Vefd7f6  surrendered to  V2cb028  Fitness: 239.84361030787355  ->  715.0097829536884\n",
      "V3085dc  surrendered to  V2cb028  Fitness: 3.0326812766492823  ->  715.0097829536884\n",
      "Vcb5bb8  surrendered to  Vefd7f6  Fitness: 12.709892383535697  ->  239.84361030787355\n",
      "V2e1753  surrendered to  V2cb028  Fitness: 2.880695211589657  ->  715.0097829536884\n",
      "V191269  surrendered to  V2cb028  Fitness: 1.5669947039011811  ->  715.0097829536884\n",
      "V14b562  surrendered to  V2cb028  Fitness: 1.2942829966734457  ->  715.0097829536884\n",
      "V138a3c  surrendered to  V2cb028  Fitness: 1.2212491971235129  ->  715.0097829536884\n",
      "V30914e  surrendered to  V2cb028  Fitness: 3.035474852864082  ->  715.0097829536884\n",
      "V3066ed  surrendered to  V2cb028  Fitness: 3.0251289952845606  ->  715.0097829536884\n",
      "V157e68  surrendered to  V2cb028  Fitness: 1.3433610481710936  ->  715.0097829536884\n",
      "V2864ec  surrendered to  V2cb028  Fitness: 2.524640039076492  ->  715.0097829536884\n",
      "V179387  surrendered to  V2cb028  Fitness: 1.4735181571905158  ->  715.0097829536884\n",
      "V167b8b  surrendered to  V2cb028  Fitness: 1.4051620448098374  ->  715.0097829536884\n",
      "V1cfe6d  surrendered to  V2cb028  Fitness: 1.8121161909449173  ->  715.0097829536884\n",
      "V159ef4  surrendered to  V2cb028  Fitness: 1.351307854195166  ->  715.0097829536884\n",
      "V187481  surrendered to  V35b4ff  Fitness: 1.5284439830433365  ->  3.356688854529819\n",
      "Ve09e53  surrendered to  V2cb028  Fitness: 14.038653681967487  ->  715.0097829536884\n",
      "V18e6ae  surrendered to  V2cb028  Fitness: 1.556318627797153  ->  715.0097829536884\n",
      "V3b4a58  surrendered to  V2cb028  Fitness: 3.7056507430140533  ->  715.0097829536884\n",
      "V19df30  surrendered to  V2cb028  Fitness: 1.6169898058465484  ->  715.0097829536884\n",
      "V2378e4  surrendered to  V2cb028  Fitness: 2.217014513705668  ->  715.0097829536884\n",
      "V16904f  surrendered to  V2cb028  Fitness: 1.4102316532809276  ->  715.0097829536884\n",
      "V1e6be7  surrendered to  V2cb028  Fitness: 1.9013437888459286  ->  715.0097829536884\n",
      "V7c5af7  surrendered to  V2cb028  Fitness: 7.772208714157503  ->  715.0097829536884\n",
      "V187481  surrendered to  V1c788c  Fitness: 1.5284439830433365  ->  1.7794312753987043\n",
      "V22b5c8  surrendered to  V2cb028  Fitness: 2.1693806210257356  ->  715.0097829536884\n",
      "V1cb5dd  surrendered to  V2cb028  Fitness: 1.794400776835065  ->  715.0097829536884\n",
      "V5da24d  surrendered to  V2cb028  Fitness: 5.852125065342946  ->  715.0097829536884\n",
      "Vd86029  surrendered to  V2cb028  Fitness: 0.8452173272929395  ->  715.0097829536884\n",
      "V1d45c8  surrendered to  V2cb028  Fitness: 1.829537072731125  ->  715.0097829536884\n",
      "V333d4d  surrendered to  V2cb028  Fitness: 3.2024666150844343  ->  715.0097829536884\n",
      "V102291  surrendered to  V2cb028  Fitness: 1.0084392196891758  ->  715.0097829536884\n",
      "V17340d  surrendered to  V2cb028  Fitness: 1.4502083399964418  ->  715.0097829536884\n",
      "V25a847  surrendered to  V2cb028  Fitness: 2.35358355867365  ->  715.0097829536884\n",
      "V130a94  surrendered to  V3eca01  Fitness: 1.1900831595203676  ->  3.9243175376658197\n",
      "V3eca01  surrendered to  V2cb028  Fitness: 3.9243175376658197  ->  715.0097829536884\n",
      "V111f8e  surrendered to  V2cb028  Fitness: 1.0702041098336532  ->  715.0097829536884\n",
      "V15e712  surrendered to  V2cb028  Fitness: 1.36891366495506  ->  715.0097829536884\n",
      "Va41cb6  surrendered to  V2cb028  Fitness: 10.25700974747335  ->  715.0097829536884\n",
      "Ve512c5  surrendered to  V2cb028  Fitness: 14.317083188036229  ->  715.0097829536884\n",
      "V12c06d  surrendered to  V2cb028  Fitness: 1.1719792493566439  ->  715.0097829536884\n",
      "V3eca01  surrendered to  V2cb028  Fitness: 3.9243175376658197  ->  715.0097829536884\n",
      "V17b786  surrendered to  V2cb028  Fitness: 1.4823056682884734  ->  715.0097829536884\n",
      "Running model Nr. 1\n"
     ]
    }
   ],
   "source": [
    "for j in range(0,len(myModels)):\n",
    "    print(\"Running model Nr.\", j)\n",
    "    jth_max_fitness_collector = []\n",
    "    jth_max_replicants_len=[]\n",
    "    jth_average_fitness_collector=[]\n",
    "    \n",
    "    for i in range(0,1000):\n",
    "        myModels[j].step()\n",
    "        jth_max_fitness_collector.append(max([node.fitness for node in myModels[j].State]))\n",
    "        jth_average_fitness_collector.append(sum([node.fitness for node in myModels[j].State])/myModels[j].N)\n",
    "        jth_max_replicants_len.append(max([len(node.replicants) for node in myModels[j].State]))\n",
    "        \n",
    "    max_fitness_collectors.append(jth_max_fitness_collector)\n",
    "    max_replicants_lens.append(jth_average_fitness_collector)\n",
    "    average_fitness_collectors.append(jth_average_fitness_collector)"
   ]
  },
  {
   "cell_type": "code",
   "execution_count": 6,
   "metadata": {},
   "outputs": [
    {
     "name": "stdout",
     "output_type": "stream",
     "text": [
      "[[], [], [], [], [], [], [], [], [], []]\n",
      "10\n",
      "[[1], [1], [1], [1], [1], [1], [1], [1], [1], [1]]\n",
      "[1]\n"
     ]
    }
   ],
   "source": [
    "l_of_ls = [[]]*10\n",
    "print(l_of_ls)\n",
    "\n",
    "print(len (l_of_ls))\n",
    "\n",
    "l_of_ls[0].append(1)\n",
    "\n",
    "print(l_of_ls)\n",
    "print(l_of_ls[0])"
   ]
  },
  {
   "cell_type": "code",
   "execution_count": 7,
   "metadata": {},
   "outputs": [
    {
     "name": "stdout",
     "output_type": "stream",
     "text": [
      "[[0, 0, 0, 0, 0], [0, 1, 2, 3, 4], [0, 2, 4, 6, 8], [0, 3, 6, 9, 12], [0, 4, 8, 12, 16]]\n"
     ]
    },
    {
     "data": {
      "text/plain": [
       "[0, 4, 8, 12, 16]"
      ]
     },
     "execution_count": 7,
     "metadata": {},
     "output_type": "execute_result"
    }
   ],
   "source": [
    "lol= []\n",
    "for i in range(0,5):\n",
    "    ithlist = []\n",
    "    for j in range(0,5):\n",
    "        ithlist.append(i*j)\n",
    "    lol.append(ithlist)\n",
    "print(lol)\n",
    "lol[4]"
   ]
  },
  {
   "cell_type": "code",
   "execution_count": 12,
   "metadata": {},
   "outputs": [
    {
     "data": {
      "image/png": "[encoded data removed]",
      "text/plain": [
       "<Figure size 432x288 with 1 Axes>"
      ]
     },
     "metadata": {
      "needs_background": "light"
     },
     "output_type": "display_data"
    }
   ],
   "source": [
    "plt.yscale('log')\n",
    "plt.plot(max_fitness_collectors)\n",
    "for a in average_fitness_collectors:\n",
    "    plt.plot(a)\n",
    "\n"
   ]
  },
  {
   "cell_type": "code",
   "execution_count": 9,
   "metadata": {},
   "outputs": [
    {
     "data": {
      "text/plain": [
       "False"
      ]
     },
     "execution_count": 9,
     "metadata": {},
     "output_type": "execute_result"
    }
   ],
   "source": [
    "False and False"
   ]
  },
  {
   "cell_type": "code",
   "execution_count": 10,
   "metadata": {},
   "outputs": [
    {
     "ename": "NameError",
     "evalue": "name 'max_fitness_collector' is not defined",
     "output_type": "error",
     "traceback": [
      "\u001b[0;31m---------------------------------------------------------------------------\u001b[0m",
      "\u001b[0;31mNameError\u001b[0m                                 Traceback (most recent call last)",
      "\u001b[0;32m<ipython-input-10-64ad86e8cd74>\u001b[0m in \u001b[0;36m<module>\u001b[0;34m\u001b[0m\n\u001b[0;32m----> 1\u001b[0;31m \u001b[0mlen\u001b[0m\u001b[0;34m(\u001b[0m\u001b[0mmax_fitness_collector\u001b[0m\u001b[0;34m)\u001b[0m\u001b[0;34m\u001b[0m\u001b[0;34m\u001b[0m\u001b[0m\n\u001b[0m",
      "\u001b[0;31mNameError\u001b[0m: name 'max_fitness_collector' is not defined"
     ]
    }
   ],
   "source": [
    "len(max_fitness_collector)"
   ]
  },
  {
   "cell_type": "code",
   "execution_count": null,
   "metadata": {},
   "outputs": [],
   "source": [
    "plt.hist([i.fitness for i in myModel.State])"
   ]
  },
  {
   "cell_type": "code",
   "execution_count": null,
   "metadata": {},
   "outputs": [],
   "source": [
    "zoo = sorted(set(State), key=lambda x: x.fitness,reverse=True)\n",
    "print(len(State))\n",
    "len(zoo)"
   ]
  },
  {
   "cell_type": "code",
   "execution_count": null,
   "metadata": {},
   "outputs": [],
   "source": [
    "[(reps_in_common(i,zoo[0]), len(i.replicants)) for i in zoo[:20]]"
   ]
  },
  {
   "cell_type": "code",
   "execution_count": null,
   "metadata": {},
   "outputs": [],
   "source": [
    "plt.plot(max_replicants_len)"
   ]
  },
  {
   "cell_type": "code",
   "execution_count": null,
   "metadata": {},
   "outputs": [],
   "source": [
    "display()"
   ]
  },
  {
   "cell_type": "code",
   "execution_count": null,
   "metadata": {},
   "outputs": [],
   "source": [
    "import numpy as np\n",
    "cumulative_sum = np.cumsum([i.attribute for i in State[0].replicants[:]]) -1\n",
    "#plt.yscale('symlog')\n",
    "plt.plot(cumulative_sum)\n",
    "cumulative_sum"
   ]
  },
  {
   "cell_type": "code",
   "execution_count": null,
   "metadata": {},
   "outputs": [],
   "source": [
    "plt.hist([v for k,v in nx.degree(Graph)])"
   ]
  },
  {
   "cell_type": "code",
   "execution_count": null,
   "metadata": {},
   "outputs": [],
   "source": [
    "def display():\n",
    "    \n",
    "    color_map = [i.color for i in State]\n",
    "    # nx.draw_circular(Graph, node_color=color_map)\n",
    "    nx.draw_spring(Graph, node_color=color_map)"
   ]
  },
  {
   "cell_type": "code",
   "execution_count": null,
   "metadata": {},
   "outputs": [],
   "source": [
    "def reps_in_common(a,b):\n",
    "    \"Return the number of Replicants Species a and Species b have in common.\"\n",
    "    return len(set(a.replicants) & set(b.replicants)) # size of the intersection set."
   ]
  }
 ],
 "metadata": {
  "kernelspec": {
   "display_name": "Python 3",
   "language": "python",
   "name": "python3"
  },
  "language_info": {
   "codemirror_mode": {
    "name": "ipython",
    "version": 3
   },
   "file_extension": ".py",
   "mimetype": "text/x-python",
   "name": "python",
   "nbconvert_exporter": "python",
   "pygments_lexer": "ipython3",
   "version": "3.9.0"
  }
 },
 "nbformat": 4,
 "nbformat_minor": 4
}
